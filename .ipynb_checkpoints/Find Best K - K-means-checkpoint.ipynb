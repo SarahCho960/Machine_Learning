{
 "cells": [
  {
   "cell_type": "markdown",
   "metadata": {},
   "source": [
    "### K-means 사용할 때 최적의 군집 갯수."
   ]
  },
  {
   "cell_type": "code",
   "execution_count": 1,
   "metadata": {},
   "outputs": [],
   "source": [
    "import numpy as np\n",
    "import pandas as pd\n",
    "import matplotlib.pyplot as plt\n",
    "from sklearn.datasets import make_blobs\n",
    "from sklearn.cluster import KMeans\n",
    "%matplotlib inline"
   ]
  },
  {
   "cell_type": "markdown",
   "metadata": {},
   "source": [
    "#### 다음 물음에 Python코드를 제시하여 답하세요."
   ]
  },
  {
   "cell_type": "code",
   "execution_count": 2,
   "metadata": {},
   "outputs": [
    {
     "data": {
      "text/plain": [
       "(150, 8)"
      ]
     },
     "execution_count": 2,
     "metadata": {},
     "output_type": "execute_result"
    }
   ],
   "source": [
    "# 데이터를 시뮬레이션 방법으로 구한다.\n",
    "# 8 차원 공간에서 3개의 군집.\n",
    "# 직접 시각화 하기 어렵다!\n",
    "X, label = make_blobs(n_samples=150, n_features=8, centers=3, cluster_std = 2, random_state=123)\n",
    "X.shape"
   ]
  },
  {
   "cell_type": "code",
   "execution_count": 3,
   "metadata": {},
   "outputs": [
    {
     "data": {
      "text/plain": [
       "array([[ -8.57489393,  -8.9993319 ,   2.55044022, ...,   9.34474989,\n",
       "          4.69204028,   1.37710201],\n",
       "       [ -3.10137732,  -0.60964963,  -5.25055123, ..., -10.49773092,\n",
       "         -0.21619367,   2.01091436],\n",
       "       [  3.25936219,  -2.21498438,  -7.63210675, ...,  -2.29622367,\n",
       "         10.89939335,  -0.25918109],\n",
       "       ...,\n",
       "       [ -2.35140914,  -1.14627793,  -2.64047991, ...,  -9.27345005,\n",
       "          0.62214666,   5.19270125],\n",
       "       [  1.36856269,  -1.45310647,  -1.35460618, ...,  -9.42199071,\n",
       "         -3.51739944,   5.33433668],\n",
       "       [  5.35391298,   0.91939455,  -5.51222289, ...,  -5.26182222,\n",
       "         10.46757725,   0.48577528]])"
      ]
     },
     "execution_count": 3,
     "metadata": {},
     "output_type": "execute_result"
    }
   ],
   "source": [
    "X"
   ]
  },
  {
   "cell_type": "code",
   "execution_count": 4,
   "metadata": {},
   "outputs": [
    {
     "data": {
      "text/plain": [
       "array([2, 1, 0, 2, 1, 2, 0, 1, 2, 0, 2, 0, 1, 0, 0, 1, 1, 0, 1, 2, 1, 0,\n",
       "       0, 0, 0, 2, 2, 2, 0, 2, 0, 2, 1, 0, 1, 0, 1, 2, 0, 1, 1, 0, 2, 2,\n",
       "       2, 0, 1, 1, 0, 1, 0, 0, 2, 1, 0, 2, 0, 0, 1, 2, 1, 2, 2, 2, 1, 2,\n",
       "       2, 0, 2, 1, 1, 2, 1, 0, 2, 1, 1, 2, 2, 2, 1, 1, 1, 1, 0, 2, 2, 0,\n",
       "       2, 1, 0, 1, 2, 2, 1, 2, 0, 1, 0, 0, 2, 1, 1, 2, 2, 0, 2, 0, 1, 0,\n",
       "       1, 2, 2, 0, 2, 2, 0, 0, 0, 0, 2, 1, 0, 2, 0, 0, 2, 0, 1, 1, 0, 1,\n",
       "       1, 0, 2, 0, 1, 1, 1, 2, 0, 2, 1, 1, 1, 0, 2, 1, 1, 0])"
      ]
     },
     "execution_count": 4,
     "metadata": {},
     "output_type": "execute_result"
    }
   ],
   "source": [
    "label"
   ]
  },
  {
   "cell_type": "markdown",
   "metadata": {},
   "source": [
    "1). \"Total internal sum of squares\"를 계산해 주는 함수 정의\n",
    "- X         :   데이터.\n",
    "- centers   :   군집의 중심점 (centroid)의 좌표를 나타내는 배열. kmeans의 출력.\n",
    "- clusters  :   군집 레이블 어레이. kmeans의 출력. <br> <br>"
   ]
  },
  {
   "cell_type": "code",
   "execution_count": 3,
   "metadata": {},
   "outputs": [],
   "source": [
    "def total_internal_ss(X, centers, clusters):\n",
    "    N_clusters = centers.shape[0]\n",
    "    N_columns = centers.shape[1]\n",
    "    N_rows = X.shape[0]\n",
    "    closest_centers = np.zeros((N_rows, N_columns))\n",
    "    for n in range(N_clusters):\n",
    "        indices = (clusters == n)\n",
    "        for j in range(N_columns):\n",
    "            closest_centers[indices,j] = centers[n,j]             # 개개 관측치에서 가장 가까운 위치의 군집 중심 (centroid).\n",
    "    return np.sum((X-closest_centers)**2.0)"
   ]
  },
  {
   "cell_type": "markdown",
   "metadata": {},
   "source": [
    "2). \"Total internal sum of squares\" 대 군집의 수를 산점도로 시각화 해 보세요."
   ]
  },
  {
   "cell_type": "code",
   "execution_count": 4,
   "metadata": {},
   "outputs": [],
   "source": [
    "n_cluster = range(2,10)                   # 군집 갯수에 해당하는 배열.\n",
    "total_ss = []                             # \"total internal sum of squares\"에 해당하는 배열.\n",
    "for n in n_cluster:\n",
    "    kmeans = KMeans(n_clusters=n)\n",
    "    clusters = kmeans.fit(X).labels_\n",
    "    centers = kmeans.cluster_centers_\n",
    "    total_ss += [total_internal_ss(X,centers,clusters)]"
   ]
  },
  {
   "cell_type": "code",
   "execution_count": 9,
   "metadata": {
    "scrolled": true
   },
   "outputs": [
    {
     "data": {
      "text/plain": [
       "array([[-2.35409092, -1.76584148, -3.9948154 ,  4.29570962, -0.11583816,\n",
       "        -8.750376  , -1.52017331,  3.29121399],\n",
       "       [-5.37348353, -5.97588338, -0.52304853,  0.0799211 ,  1.37988376,\n",
       "         6.77886256,  5.10104581,  1.72833119],\n",
       "       [ 3.20892022, -4.77729891, -5.45748475,  1.2932159 ,  5.32507763,\n",
       "        -1.00922632,  9.75574738,  2.95686017],\n",
       "       [ 5.02801726, -4.02406898, -5.37997616, -0.01520953,  2.61354742,\n",
       "        -3.12856886,  9.13324368,  4.15643289],\n",
       "       [ 1.87180808, -2.0604805 , -1.28666469,  4.31215286, -2.16335607,\n",
       "        -7.04311149, -1.73911067,  3.83903021],\n",
       "       [-6.4499266 , -7.12654571,  1.59527723,  0.2953678 ,  3.35992611,\n",
       "         8.25023876,  2.89235068,  2.53086127],\n",
       "       [ 0.06758758, -2.32138644, -3.24053123,  5.70659254, -1.69251892,\n",
       "        -9.12527157, -2.10700811,  7.28369034],\n",
       "       [-7.16187022, -7.25725182,  1.70766129,  1.90121766,  3.65231703,\n",
       "         5.33109859,  5.7053324 ,  0.67346089],\n",
       "       [-0.88559277, -1.42148923, -1.59584705,  3.44972656, -3.55403673,\n",
       "        -9.78762375, -4.66448048,  4.72735205]])"
      ]
     },
     "execution_count": 9,
     "metadata": {},
     "output_type": "execute_result"
    }
   ],
   "source": [
    "centers"
   ]
  },
  {
   "cell_type": "code",
   "execution_count": 5,
   "metadata": {},
   "outputs": [
    {
     "data": {
      "image/png": "[encoded data removed]",
      "text/plain": [
       "<Figure size 432x288 with 1 Axes>"
      ]
     },
     "metadata": {
      "needs_background": "light"
     },
     "output_type": "display_data"
    }
   ],
   "source": [
    "plt.plot(n_cluster,total_ss,color='blue',marker='o',linestyle='dashed',linewidth=1,markersize=5)\n",
    "plt.show()"
   ]
  },
  {
   "cell_type": "code",
   "execution_count": 6,
   "metadata": {},
   "outputs": [],
   "source": [
    "#\n",
    "# 위에서 정의한 함수가 아닌 객체의 inertia_ 속성을 사용해서 간편하게 계산할 수 있다!!!\n",
    "#\n",
    "n_cluster = range(2,10)                  # 군집 갯수에 해당하는 리스트.\n",
    "total_ss = []                            # \"total internal sum of squares\"에 해당하는 리스트.\n",
    "for n in n_cluster:\n",
    "    kmeans = KMeans(n_clusters=n)\n",
    "    kmeans.fit(X)\n",
    "    total_ss.append(kmeans.inertia_)      # kmeans의 inertia_ 속성이 바로 \"Total Internal SS\"!!!"
   ]
  },
  {
   "cell_type": "code",
   "execution_count": 7,
   "metadata": {},
   "outputs": [
    {
     "data": {
      "image/png": "[encoded data removed]",
      "text/plain": [
       "<Figure size 432x288 with 1 Axes>"
      ]
     },
     "metadata": {
      "needs_background": "light"
     },
     "output_type": "display_data"
    }
   ],
   "source": [
    "plt.plot(n_cluster,total_ss,color='green',marker='o',linestyle='dashed',linewidth=1,markersize=5)\n",
    "plt.show()"
   ]
  },
  {
   "cell_type": "code",
   "execution_count": null,
   "metadata": {},
   "outputs": [],
   "source": []
  },
  {
   "cell_type": "code",
   "execution_count": null,
   "metadata": {},
   "outputs": [],
   "source": []
  }
 ],
 "metadata": {
  "kernelspec": {
   "display_name": "Python 3",
   "language": "python",
   "name": "python3"
  },
  "language_info": {
   "codemirror_mode": {
    "name": "ipython",
    "version": 3
   },
   "file_extension": ".py",
   "mimetype": "text/x-python",
   "name": "python",
   "nbconvert_exporter": "python",
   "pygments_lexer": "ipython3",
   "version": "3.8.5"
  }
 },
 "nbformat": 4,
 "nbformat_minor": 2
}
