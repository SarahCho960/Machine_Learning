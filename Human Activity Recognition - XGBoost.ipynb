{
 "cells": [
  {
   "cell_type": "markdown",
   "metadata": {},
   "source": [
    "### \"Human Activity Recognition\" "
   ]
  },
  {
   "cell_type": "code",
   "execution_count": 81,
   "metadata": {},
   "outputs": [],
   "source": [
    "import numpy as np\n",
    "import pandas as pd\n",
    "import matplotlib.pyplot as plt\n",
    "import seaborn as sns\n",
    "import warnings\n",
    "from sklearn.model_selection import train_test_split, GridSearchCV\n",
    "from sklearn.neighbors import KNeighborsClassifier\n",
    "from sklearn.tree import DecisionTreeClassifier\n",
    "from sklearn.ensemble import RandomForestClassifier,AdaBoostClassifier, GradientBoostingClassifier\n",
    "from xgboost import XGBClassifier\n",
    "from sklearn import metrics, preprocessing\n",
    "warnings.filterwarnings(action='ignore')                  # Turn off the warnings.\n",
    "%matplotlib inline"
   ]
  },
  {
   "cell_type": "markdown",
   "metadata": {},
   "source": [
    "1). 데이터를 가져온다."
   ]
  },
  {
   "cell_type": "markdown",
   "metadata": {},
   "source": [
    "데이터의 출처는 [여기](https://archive.ics.uci.edu/ml/datasets/human+activity+recognition+using+smartphones)."
   ]
  },
  {
   "cell_type": "code",
   "execution_count": 82,
   "metadata": {},
   "outputs": [],
   "source": [
    "df = pd.read_csv(r'../data/data_human activity recognition.csv', header='infer')"
   ]
  },
  {
   "cell_type": "code",
   "execution_count": 83,
   "metadata": {},
   "outputs": [
    {
     "data": {
      "text/plain": [
       "(19622, 160)"
      ]
     },
     "execution_count": 83,
     "metadata": {},
     "output_type": "execute_result"
    }
   ],
   "source": [
    "df.shape"
   ]
  },
  {
   "cell_type": "code",
   "execution_count": 92,
   "metadata": {
    "scrolled": false
   },
   "outputs": [
    {
     "data": {
      "text/html": [
       "<div>\n",
       "<style scoped>\n",
       "    .dataframe tbody tr th:only-of-type {\n",
       "        vertical-align: middle;\n",
       "    }\n",
       "\n",
       "    .dataframe tbody tr th {\n",
       "        vertical-align: top;\n",
       "    }\n",
       "\n",
       "    .dataframe thead th {\n",
       "        text-align: right;\n",
       "    }\n",
       "</style>\n",
       "<table border=\"1\" class=\"dataframe\">\n",
       "  <thead>\n",
       "    <tr style=\"text-align: right;\">\n",
       "      <th></th>\n",
       "      <th>Unnamed: 0</th>\n",
       "      <th>num_window</th>\n",
       "      <th>roll_belt</th>\n",
       "      <th>pitch_belt</th>\n",
       "      <th>yaw_belt</th>\n",
       "      <th>total_accel_belt</th>\n",
       "      <th>gyros_belt_x</th>\n",
       "      <th>gyros_belt_y</th>\n",
       "      <th>gyros_belt_z</th>\n",
       "      <th>accel_belt_x</th>\n",
       "      <th>...</th>\n",
       "      <th>total_accel_forearm</th>\n",
       "      <th>gyros_forearm_x</th>\n",
       "      <th>gyros_forearm_y</th>\n",
       "      <th>gyros_forearm_z</th>\n",
       "      <th>accel_forearm_x</th>\n",
       "      <th>accel_forearm_y</th>\n",
       "      <th>accel_forearm_z</th>\n",
       "      <th>magnet_forearm_x</th>\n",
       "      <th>magnet_forearm_y</th>\n",
       "      <th>magnet_forearm_z</th>\n",
       "    </tr>\n",
       "  </thead>\n",
       "  <tbody>\n",
       "    <tr>\n",
       "      <th>count</th>\n",
       "      <td>19622.000000</td>\n",
       "      <td>19622.000000</td>\n",
       "      <td>19622.000000</td>\n",
       "      <td>19622.000000</td>\n",
       "      <td>19622.000000</td>\n",
       "      <td>19622.000000</td>\n",
       "      <td>19622.000000</td>\n",
       "      <td>19622.000000</td>\n",
       "      <td>19622.000000</td>\n",
       "      <td>19622.000000</td>\n",
       "      <td>...</td>\n",
       "      <td>19622.000000</td>\n",
       "      <td>19622.000000</td>\n",
       "      <td>19622.000000</td>\n",
       "      <td>19622.000000</td>\n",
       "      <td>19622.000000</td>\n",
       "      <td>19622.000000</td>\n",
       "      <td>19622.000000</td>\n",
       "      <td>19622.000000</td>\n",
       "      <td>19622.000000</td>\n",
       "      <td>19622.000000</td>\n",
       "    </tr>\n",
       "    <tr>\n",
       "      <th>mean</th>\n",
       "      <td>9811.500000</td>\n",
       "      <td>430.640047</td>\n",
       "      <td>64.407197</td>\n",
       "      <td>0.305283</td>\n",
       "      <td>-11.205061</td>\n",
       "      <td>11.312608</td>\n",
       "      <td>-0.005592</td>\n",
       "      <td>0.039588</td>\n",
       "      <td>-0.130538</td>\n",
       "      <td>-5.594690</td>\n",
       "      <td>...</td>\n",
       "      <td>34.715320</td>\n",
       "      <td>0.157951</td>\n",
       "      <td>0.075175</td>\n",
       "      <td>0.151245</td>\n",
       "      <td>-61.651819</td>\n",
       "      <td>163.655896</td>\n",
       "      <td>-55.291917</td>\n",
       "      <td>-312.575884</td>\n",
       "      <td>380.116445</td>\n",
       "      <td>393.613745</td>\n",
       "    </tr>\n",
       "    <tr>\n",
       "      <th>std</th>\n",
       "      <td>5664.527827</td>\n",
       "      <td>247.909554</td>\n",
       "      <td>62.750255</td>\n",
       "      <td>22.351242</td>\n",
       "      <td>95.193926</td>\n",
       "      <td>7.742309</td>\n",
       "      <td>0.207329</td>\n",
       "      <td>0.078236</td>\n",
       "      <td>0.241321</td>\n",
       "      <td>29.644785</td>\n",
       "      <td>...</td>\n",
       "      <td>10.055956</td>\n",
       "      <td>0.648618</td>\n",
       "      <td>3.100725</td>\n",
       "      <td>1.754483</td>\n",
       "      <td>180.593687</td>\n",
       "      <td>200.130082</td>\n",
       "      <td>138.396947</td>\n",
       "      <td>346.958482</td>\n",
       "      <td>509.373742</td>\n",
       "      <td>369.268747</td>\n",
       "    </tr>\n",
       "    <tr>\n",
       "      <th>min</th>\n",
       "      <td>1.000000</td>\n",
       "      <td>1.000000</td>\n",
       "      <td>-28.900000</td>\n",
       "      <td>-55.800000</td>\n",
       "      <td>-180.000000</td>\n",
       "      <td>0.000000</td>\n",
       "      <td>-1.040000</td>\n",
       "      <td>-0.640000</td>\n",
       "      <td>-1.460000</td>\n",
       "      <td>-120.000000</td>\n",
       "      <td>...</td>\n",
       "      <td>0.000000</td>\n",
       "      <td>-22.000000</td>\n",
       "      <td>-7.020000</td>\n",
       "      <td>-8.090000</td>\n",
       "      <td>-498.000000</td>\n",
       "      <td>-632.000000</td>\n",
       "      <td>-446.000000</td>\n",
       "      <td>-1280.000000</td>\n",
       "      <td>-896.000000</td>\n",
       "      <td>-973.000000</td>\n",
       "    </tr>\n",
       "    <tr>\n",
       "      <th>25%</th>\n",
       "      <td>4906.250000</td>\n",
       "      <td>222.000000</td>\n",
       "      <td>1.100000</td>\n",
       "      <td>1.760000</td>\n",
       "      <td>-88.300000</td>\n",
       "      <td>3.000000</td>\n",
       "      <td>-0.030000</td>\n",
       "      <td>0.000000</td>\n",
       "      <td>-0.200000</td>\n",
       "      <td>-21.000000</td>\n",
       "      <td>...</td>\n",
       "      <td>29.000000</td>\n",
       "      <td>-0.220000</td>\n",
       "      <td>-1.460000</td>\n",
       "      <td>-0.180000</td>\n",
       "      <td>-178.000000</td>\n",
       "      <td>57.000000</td>\n",
       "      <td>-182.000000</td>\n",
       "      <td>-616.000000</td>\n",
       "      <td>2.000000</td>\n",
       "      <td>191.000000</td>\n",
       "    </tr>\n",
       "    <tr>\n",
       "      <th>50%</th>\n",
       "      <td>9811.500000</td>\n",
       "      <td>424.000000</td>\n",
       "      <td>113.000000</td>\n",
       "      <td>5.280000</td>\n",
       "      <td>-13.000000</td>\n",
       "      <td>17.000000</td>\n",
       "      <td>0.030000</td>\n",
       "      <td>0.020000</td>\n",
       "      <td>-0.100000</td>\n",
       "      <td>-15.000000</td>\n",
       "      <td>...</td>\n",
       "      <td>36.000000</td>\n",
       "      <td>0.050000</td>\n",
       "      <td>0.030000</td>\n",
       "      <td>0.080000</td>\n",
       "      <td>-57.000000</td>\n",
       "      <td>201.000000</td>\n",
       "      <td>-39.000000</td>\n",
       "      <td>-378.000000</td>\n",
       "      <td>591.000000</td>\n",
       "      <td>511.000000</td>\n",
       "    </tr>\n",
       "    <tr>\n",
       "      <th>75%</th>\n",
       "      <td>14716.750000</td>\n",
       "      <td>644.000000</td>\n",
       "      <td>123.000000</td>\n",
       "      <td>14.900000</td>\n",
       "      <td>12.900000</td>\n",
       "      <td>18.000000</td>\n",
       "      <td>0.110000</td>\n",
       "      <td>0.110000</td>\n",
       "      <td>-0.020000</td>\n",
       "      <td>-5.000000</td>\n",
       "      <td>...</td>\n",
       "      <td>41.000000</td>\n",
       "      <td>0.560000</td>\n",
       "      <td>1.620000</td>\n",
       "      <td>0.490000</td>\n",
       "      <td>76.000000</td>\n",
       "      <td>312.000000</td>\n",
       "      <td>26.000000</td>\n",
       "      <td>-73.000000</td>\n",
       "      <td>737.000000</td>\n",
       "      <td>653.000000</td>\n",
       "    </tr>\n",
       "    <tr>\n",
       "      <th>max</th>\n",
       "      <td>19622.000000</td>\n",
       "      <td>864.000000</td>\n",
       "      <td>162.000000</td>\n",
       "      <td>60.300000</td>\n",
       "      <td>179.000000</td>\n",
       "      <td>29.000000</td>\n",
       "      <td>2.220000</td>\n",
       "      <td>0.640000</td>\n",
       "      <td>1.620000</td>\n",
       "      <td>85.000000</td>\n",
       "      <td>...</td>\n",
       "      <td>108.000000</td>\n",
       "      <td>3.970000</td>\n",
       "      <td>311.000000</td>\n",
       "      <td>231.000000</td>\n",
       "      <td>477.000000</td>\n",
       "      <td>923.000000</td>\n",
       "      <td>291.000000</td>\n",
       "      <td>672.000000</td>\n",
       "      <td>1480.000000</td>\n",
       "      <td>1090.000000</td>\n",
       "    </tr>\n",
       "  </tbody>\n",
       "</table>\n",
       "<p>8 rows × 54 columns</p>\n",
       "</div>"
      ],
      "text/plain": [
       "         Unnamed: 0    num_window     roll_belt    pitch_belt      yaw_belt  \\\n",
       "count  19622.000000  19622.000000  19622.000000  19622.000000  19622.000000   \n",
       "mean    9811.500000    430.640047     64.407197      0.305283    -11.205061   \n",
       "std     5664.527827    247.909554     62.750255     22.351242     95.193926   \n",
       "min        1.000000      1.000000    -28.900000    -55.800000   -180.000000   \n",
       "25%     4906.250000    222.000000      1.100000      1.760000    -88.300000   \n",
       "50%     9811.500000    424.000000    113.000000      5.280000    -13.000000   \n",
       "75%    14716.750000    644.000000    123.000000     14.900000     12.900000   \n",
       "max    19622.000000    864.000000    162.000000     60.300000    179.000000   \n",
       "\n",
       "       total_accel_belt  gyros_belt_x  gyros_belt_y  gyros_belt_z  \\\n",
       "count      19622.000000  19622.000000  19622.000000  19622.000000   \n",
       "mean          11.312608     -0.005592      0.039588     -0.130538   \n",
       "std            7.742309      0.207329      0.078236      0.241321   \n",
       "min            0.000000     -1.040000     -0.640000     -1.460000   \n",
       "25%            3.000000     -0.030000      0.000000     -0.200000   \n",
       "50%           17.000000      0.030000      0.020000     -0.100000   \n",
       "75%           18.000000      0.110000      0.110000     -0.020000   \n",
       "max           29.000000      2.220000      0.640000      1.620000   \n",
       "\n",
       "       accel_belt_x  ...  total_accel_forearm  gyros_forearm_x  \\\n",
       "count  19622.000000  ...         19622.000000     19622.000000   \n",
       "mean      -5.594690  ...            34.715320         0.157951   \n",
       "std       29.644785  ...            10.055956         0.648618   \n",
       "min     -120.000000  ...             0.000000       -22.000000   \n",
       "25%      -21.000000  ...            29.000000        -0.220000   \n",
       "50%      -15.000000  ...            36.000000         0.050000   \n",
       "75%       -5.000000  ...            41.000000         0.560000   \n",
       "max       85.000000  ...           108.000000         3.970000   \n",
       "\n",
       "       gyros_forearm_y  gyros_forearm_z  accel_forearm_x  accel_forearm_y  \\\n",
       "count     19622.000000     19622.000000     19622.000000     19622.000000   \n",
       "mean          0.075175         0.151245       -61.651819       163.655896   \n",
       "std           3.100725         1.754483       180.593687       200.130082   \n",
       "min          -7.020000        -8.090000      -498.000000      -632.000000   \n",
       "25%          -1.460000        -0.180000      -178.000000        57.000000   \n",
       "50%           0.030000         0.080000       -57.000000       201.000000   \n",
       "75%           1.620000         0.490000        76.000000       312.000000   \n",
       "max         311.000000       231.000000       477.000000       923.000000   \n",
       "\n",
       "       accel_forearm_z  magnet_forearm_x  magnet_forearm_y  magnet_forearm_z  \n",
       "count     19622.000000      19622.000000      19622.000000      19622.000000  \n",
       "mean        -55.291917       -312.575884        380.116445        393.613745  \n",
       "std         138.396947        346.958482        509.373742        369.268747  \n",
       "min        -446.000000      -1280.000000       -896.000000       -973.000000  \n",
       "25%        -182.000000       -616.000000          2.000000        191.000000  \n",
       "50%         -39.000000       -378.000000        591.000000        511.000000  \n",
       "75%          26.000000        -73.000000        737.000000        653.000000  \n",
       "max         291.000000        672.000000       1480.000000       1090.000000  \n",
       "\n",
       "[8 rows x 54 columns]"
      ]
     },
     "execution_count": 92,
     "metadata": {},
     "output_type": "execute_result"
    }
   ],
   "source": [
    "df.describe()"
   ]
  },
  {
   "cell_type": "code",
   "execution_count": 93,
   "metadata": {},
   "outputs": [
    {
     "data": {
      "text/html": [
       "<div>\n",
       "<style scoped>\n",
       "    .dataframe tbody tr th:only-of-type {\n",
       "        vertical-align: middle;\n",
       "    }\n",
       "\n",
       "    .dataframe tbody tr th {\n",
       "        vertical-align: top;\n",
       "    }\n",
       "\n",
       "    .dataframe thead th {\n",
       "        text-align: right;\n",
       "    }\n",
       "</style>\n",
       "<table border=\"1\" class=\"dataframe\">\n",
       "  <thead>\n",
       "    <tr style=\"text-align: right;\">\n",
       "      <th></th>\n",
       "      <th>Unnamed: 0</th>\n",
       "      <th>user_name</th>\n",
       "      <th>new_window</th>\n",
       "      <th>num_window</th>\n",
       "      <th>roll_belt</th>\n",
       "      <th>pitch_belt</th>\n",
       "      <th>yaw_belt</th>\n",
       "      <th>total_accel_belt</th>\n",
       "      <th>gyros_belt_x</th>\n",
       "      <th>gyros_belt_y</th>\n",
       "      <th>...</th>\n",
       "      <th>gyros_forearm_x</th>\n",
       "      <th>gyros_forearm_y</th>\n",
       "      <th>gyros_forearm_z</th>\n",
       "      <th>accel_forearm_x</th>\n",
       "      <th>accel_forearm_y</th>\n",
       "      <th>accel_forearm_z</th>\n",
       "      <th>magnet_forearm_x</th>\n",
       "      <th>magnet_forearm_y</th>\n",
       "      <th>magnet_forearm_z</th>\n",
       "      <th>classe</th>\n",
       "    </tr>\n",
       "  </thead>\n",
       "  <tbody>\n",
       "    <tr>\n",
       "      <th>0</th>\n",
       "      <td>1</td>\n",
       "      <td>carlitos</td>\n",
       "      <td>no</td>\n",
       "      <td>11</td>\n",
       "      <td>1.41</td>\n",
       "      <td>8.07</td>\n",
       "      <td>-94.4</td>\n",
       "      <td>3</td>\n",
       "      <td>0.00</td>\n",
       "      <td>0.00</td>\n",
       "      <td>...</td>\n",
       "      <td>0.03</td>\n",
       "      <td>0.00</td>\n",
       "      <td>-0.02</td>\n",
       "      <td>192</td>\n",
       "      <td>203</td>\n",
       "      <td>-215</td>\n",
       "      <td>-17</td>\n",
       "      <td>654.0</td>\n",
       "      <td>476.0</td>\n",
       "      <td>A</td>\n",
       "    </tr>\n",
       "    <tr>\n",
       "      <th>1</th>\n",
       "      <td>2</td>\n",
       "      <td>carlitos</td>\n",
       "      <td>no</td>\n",
       "      <td>11</td>\n",
       "      <td>1.41</td>\n",
       "      <td>8.07</td>\n",
       "      <td>-94.4</td>\n",
       "      <td>3</td>\n",
       "      <td>0.02</td>\n",
       "      <td>0.00</td>\n",
       "      <td>...</td>\n",
       "      <td>0.02</td>\n",
       "      <td>0.00</td>\n",
       "      <td>-0.02</td>\n",
       "      <td>192</td>\n",
       "      <td>203</td>\n",
       "      <td>-216</td>\n",
       "      <td>-18</td>\n",
       "      <td>661.0</td>\n",
       "      <td>473.0</td>\n",
       "      <td>A</td>\n",
       "    </tr>\n",
       "    <tr>\n",
       "      <th>2</th>\n",
       "      <td>3</td>\n",
       "      <td>carlitos</td>\n",
       "      <td>no</td>\n",
       "      <td>11</td>\n",
       "      <td>1.42</td>\n",
       "      <td>8.07</td>\n",
       "      <td>-94.4</td>\n",
       "      <td>3</td>\n",
       "      <td>0.00</td>\n",
       "      <td>0.00</td>\n",
       "      <td>...</td>\n",
       "      <td>0.03</td>\n",
       "      <td>-0.02</td>\n",
       "      <td>0.00</td>\n",
       "      <td>196</td>\n",
       "      <td>204</td>\n",
       "      <td>-213</td>\n",
       "      <td>-18</td>\n",
       "      <td>658.0</td>\n",
       "      <td>469.0</td>\n",
       "      <td>A</td>\n",
       "    </tr>\n",
       "    <tr>\n",
       "      <th>3</th>\n",
       "      <td>4</td>\n",
       "      <td>carlitos</td>\n",
       "      <td>no</td>\n",
       "      <td>12</td>\n",
       "      <td>1.48</td>\n",
       "      <td>8.05</td>\n",
       "      <td>-94.4</td>\n",
       "      <td>3</td>\n",
       "      <td>0.02</td>\n",
       "      <td>0.00</td>\n",
       "      <td>...</td>\n",
       "      <td>0.02</td>\n",
       "      <td>-0.02</td>\n",
       "      <td>0.00</td>\n",
       "      <td>189</td>\n",
       "      <td>206</td>\n",
       "      <td>-214</td>\n",
       "      <td>-16</td>\n",
       "      <td>658.0</td>\n",
       "      <td>469.0</td>\n",
       "      <td>A</td>\n",
       "    </tr>\n",
       "    <tr>\n",
       "      <th>4</th>\n",
       "      <td>5</td>\n",
       "      <td>carlitos</td>\n",
       "      <td>no</td>\n",
       "      <td>12</td>\n",
       "      <td>1.48</td>\n",
       "      <td>8.07</td>\n",
       "      <td>-94.4</td>\n",
       "      <td>3</td>\n",
       "      <td>0.02</td>\n",
       "      <td>0.02</td>\n",
       "      <td>...</td>\n",
       "      <td>0.02</td>\n",
       "      <td>0.00</td>\n",
       "      <td>-0.02</td>\n",
       "      <td>189</td>\n",
       "      <td>206</td>\n",
       "      <td>-214</td>\n",
       "      <td>-17</td>\n",
       "      <td>655.0</td>\n",
       "      <td>473.0</td>\n",
       "      <td>A</td>\n",
       "    </tr>\n",
       "  </tbody>\n",
       "</table>\n",
       "<p>5 rows × 57 columns</p>\n",
       "</div>"
      ],
      "text/plain": [
       "   Unnamed: 0 user_name new_window  num_window  roll_belt  pitch_belt  \\\n",
       "0           1  carlitos         no          11       1.41        8.07   \n",
       "1           2  carlitos         no          11       1.41        8.07   \n",
       "2           3  carlitos         no          11       1.42        8.07   \n",
       "3           4  carlitos         no          12       1.48        8.05   \n",
       "4           5  carlitos         no          12       1.48        8.07   \n",
       "\n",
       "   yaw_belt  total_accel_belt  gyros_belt_x  gyros_belt_y  ...  \\\n",
       "0     -94.4                 3          0.00          0.00  ...   \n",
       "1     -94.4                 3          0.02          0.00  ...   \n",
       "2     -94.4                 3          0.00          0.00  ...   \n",
       "3     -94.4                 3          0.02          0.00  ...   \n",
       "4     -94.4                 3          0.02          0.02  ...   \n",
       "\n",
       "   gyros_forearm_x  gyros_forearm_y  gyros_forearm_z  accel_forearm_x  \\\n",
       "0             0.03             0.00            -0.02              192   \n",
       "1             0.02             0.00            -0.02              192   \n",
       "2             0.03            -0.02             0.00              196   \n",
       "3             0.02            -0.02             0.00              189   \n",
       "4             0.02             0.00            -0.02              189   \n",
       "\n",
       "   accel_forearm_y  accel_forearm_z  magnet_forearm_x  magnet_forearm_y  \\\n",
       "0              203             -215               -17             654.0   \n",
       "1              203             -216               -18             661.0   \n",
       "2              204             -213               -18             658.0   \n",
       "3              206             -214               -16             658.0   \n",
       "4              206             -214               -17             655.0   \n",
       "\n",
       "   magnet_forearm_z  classe  \n",
       "0             476.0       A  \n",
       "1             473.0       A  \n",
       "2             469.0       A  \n",
       "3             469.0       A  \n",
       "4             473.0       A  \n",
       "\n",
       "[5 rows x 57 columns]"
      ]
     },
     "execution_count": 93,
     "metadata": {},
     "output_type": "execute_result"
    }
   ],
   "source": [
    "df.head()"
   ]
  },
  {
   "cell_type": "markdown",
   "metadata": {},
   "source": [
    "2). EDA 실시. 결측치를 확인해 본다."
   ]
  },
  {
   "cell_type": "code",
   "execution_count": 99,
   "metadata": {
    "scrolled": true
   },
   "outputs": [
    {
     "data": {
      "text/plain": [
       "<AxesSubplot:>"
      ]
     },
     "execution_count": 99,
     "metadata": {},
     "output_type": "execute_result"
    },
    {
     "data": {
      "image/png": "[encoded data removed]",
      "text/plain": [
       "<Figure size 432x288 with 1 Axes>"
      ]
     },
     "metadata": {
      "needs_background": "light"
     },
     "output_type": "display_data"
    }
   ],
   "source": [
    "classe = df['classe'].value_counts()\n",
    "sns.barplot(classe.index, classe.values)"
   ]
  },
  {
   "cell_type": "code",
   "execution_count": 85,
   "metadata": {},
   "outputs": [
    {
     "data": {
      "text/plain": [
       "(160, 1)"
      ]
     },
     "execution_count": 85,
     "metadata": {},
     "output_type": "execute_result"
    }
   ],
   "source": [
    "missing = pd.DataFrame(df.isnull().sum().sort_values(ascending=False))\n",
    "missing = missing.rename(columns={0:\"count\"})\n",
    "missing.shape"
   ]
  },
  {
   "cell_type": "markdown",
   "metadata": {},
   "source": [
    "3). 97% 이상의 값이 결측치인 컬럼은 소거한다."
   ]
  },
  {
   "cell_type": "code",
   "execution_count": 86,
   "metadata": {},
   "outputs": [
    {
     "data": {
      "text/plain": [
       "(19622, 60)"
      ]
     },
     "execution_count": 86,
     "metadata": {},
     "output_type": "execute_result"
    }
   ],
   "source": [
    "del_col = missing[missing['count']>df.shape[0]*0.97].index\n",
    "df = df.drop(columns=del_col, axis=1)\n",
    "df.shape"
   ]
  },
  {
   "cell_type": "markdown",
   "metadata": {},
   "source": [
    "4). 기타 불필요 컬럼은 소거한다."
   ]
  },
  {
   "cell_type": "code",
   "execution_count": 87,
   "metadata": {},
   "outputs": [
    {
     "data": {
      "text/plain": [
       "(19622, 57)"
      ]
     },
     "execution_count": 87,
     "metadata": {},
     "output_type": "execute_result"
    }
   ],
   "source": [
    "keep_columns = []\n",
    "\n",
    "for c in df.columns:\n",
    "    if \"time\" not in c:\n",
    "        keep_columns.append(c)\n",
    "    else:\n",
    "        continue\n",
    "\n",
    "df = df[keep_columns]\n",
    "df.shape"
   ]
  },
  {
   "cell_type": "code",
   "execution_count": 91,
   "metadata": {
    "scrolled": true
   },
   "outputs": [
    {
     "data": {
      "text/plain": [
       "Index(['Unnamed: 0', 'user_name', 'new_window', 'num_window', 'roll_belt',\n",
       "       'pitch_belt', 'yaw_belt', 'total_accel_belt', 'gyros_belt_x',\n",
       "       'gyros_belt_y', 'gyros_belt_z', 'accel_belt_x', 'accel_belt_y',\n",
       "       'accel_belt_z', 'magnet_belt_x', 'magnet_belt_y', 'magnet_belt_z',\n",
       "       'roll_arm', 'pitch_arm', 'yaw_arm', 'total_accel_arm', 'gyros_arm_x',\n",
       "       'gyros_arm_y', 'gyros_arm_z', 'accel_arm_x', 'accel_arm_y',\n",
       "       'accel_arm_z', 'magnet_arm_x', 'magnet_arm_y', 'magnet_arm_z',\n",
       "       'roll_dumbbell', 'pitch_dumbbell', 'yaw_dumbbell',\n",
       "       'total_accel_dumbbell', 'gyros_dumbbell_x', 'gyros_dumbbell_y',\n",
       "       'gyros_dumbbell_z', 'accel_dumbbell_x', 'accel_dumbbell_y',\n",
       "       'accel_dumbbell_z', 'magnet_dumbbell_x', 'magnet_dumbbell_y',\n",
       "       'magnet_dumbbell_z', 'roll_forearm', 'pitch_forearm', 'yaw_forearm',\n",
       "       'total_accel_forearm', 'gyros_forearm_x', 'gyros_forearm_y',\n",
       "       'gyros_forearm_z', 'accel_forearm_x', 'accel_forearm_y',\n",
       "       'accel_forearm_z', 'magnet_forearm_x', 'magnet_forearm_y',\n",
       "       'magnet_forearm_z', 'classe'],\n",
       "      dtype='object')"
      ]
     },
     "execution_count": 91,
     "metadata": {},
     "output_type": "execute_result"
    }
   ],
   "source": [
    "df.columns"
   ]
  },
  {
   "cell_type": "code",
   "execution_count": 95,
   "metadata": {},
   "outputs": [
    {
     "data": {
      "text/plain": [
       "(19622, 54)"
      ]
     },
     "execution_count": 95,
     "metadata": {},
     "output_type": "execute_result"
    }
   ],
   "source": [
    "df = df.drop(['Unnamed: 0', 'user_name', 'new_window'], axis=1)\n",
    "df.shape"
   ]
  },
  {
   "cell_type": "markdown",
   "metadata": {},
   "source": [
    "5). 반응 변수를 Label Encode 한다."
   ]
  },
  {
   "cell_type": "code",
   "execution_count": 103,
   "metadata": {},
   "outputs": [
    {
     "data": {
      "text/plain": [
       "array([0, 0, 0, ..., 4, 4, 4])"
      ]
     },
     "execution_count": 103,
     "metadata": {},
     "output_type": "execute_result"
    }
   ],
   "source": [
    "X = np.array(df.drop(columns=\"classe\"))\n",
    "Y = np.array(df['classe'])\n",
    "\n",
    "LE = preprocessing.LabelEncoder()\n",
    "Y = LE.fit_transform(Y)\n",
    "Y"
   ]
  },
  {
   "cell_type": "markdown",
   "metadata": {},
   "source": [
    "6). 설명 변수들에게 Min-Max Scaling을 적용한다."
   ]
  },
  {
   "cell_type": "code",
   "execution_count": 104,
   "metadata": {},
   "outputs": [
    {
     "data": {
      "text/plain": [
       "array([[0.01158749, 0.15877423, 0.5501292 , ..., 0.64702869, 0.6523569 ,\n",
       "        0.70237518],\n",
       "       [0.01158749, 0.15877423, 0.5501292 , ..., 0.64651639, 0.65530303,\n",
       "        0.70092099],\n",
       "       [0.01158749, 0.15882661, 0.5501292 , ..., 0.64651639, 0.6540404 ,\n",
       "        0.69898206],\n",
       "       ...,\n",
       "       [1.        , 0.91094814, 0.17484927, ..., 0.59631148, 0.10185185,\n",
       "        0.43771207],\n",
       "       [1.        , 0.90047145, 0.17140396, ..., 0.62090164, 0.09175084,\n",
       "        0.4241396 ],\n",
       "       [1.        , 0.90047145, 0.17054264, ..., 0.625     , 0.08838384,\n",
       "        0.41832283]])"
      ]
     },
     "execution_count": 104,
     "metadata": {},
     "output_type": "execute_result"
    }
   ],
   "source": [
    "MM = preprocessing.MinMaxScaler()\n",
    "X = MM.fit_transform(X)\n",
    "X"
   ]
  },
  {
   "cell_type": "markdown",
   "metadata": {},
   "source": [
    "7). 분류 예측을 실시한다.\n",
    "\n",
    "- 하이퍼 파라미터 최적화.\n",
    "- 정확도 계산.\n",
    "- 90% 이상의 정확도를 목표로 한다."
   ]
  },
  {
   "cell_type": "code",
   "execution_count": 105,
   "metadata": {},
   "outputs": [],
   "source": [
    "X_train, X_test, Y_train, Y_test = train_test_split(X, Y, test_size=0.3, random_state=1234)"
   ]
  },
  {
   "cell_type": "code",
   "execution_count": 106,
   "metadata": {},
   "outputs": [
    {
     "name": "stdout",
     "output_type": "stream",
     "text": [
      "[14:14:08] WARNING: /Users/travis/build/dmlc/xgboost/src/learner.cc:1095: Starting in XGBoost 1.3.0, the default evaluation metric used with the objective 'multi:softprob' was changed from 'merror' to 'mlogloss'. Explicitly set eval_metric if you'd like to restore the old behavior.\n",
      "XGBoost accuracy : 0.999\n"
     ]
    }
   ],
   "source": [
    "XGBC = XGBClassifier(n_estimators = 500, learning_rate = 0.1, max_depth = 4, random_state=123)\n",
    "XGBC.fit(X_train, Y_train)\n",
    "Y_pred = XGBC.predict(X_test)\n",
    "print( \"XGBoost accuracy : \" + str(np.round(metrics.accuracy_score(Y_test,Y_pred),3)))"
   ]
  },
  {
   "cell_type": "code",
   "execution_count": null,
   "metadata": {},
   "outputs": [],
   "source": []
  }
 ],
 "metadata": {
  "kernelspec": {
   "display_name": "Python 3",
   "language": "python",
   "name": "python3"
  },
  "language_info": {
   "codemirror_mode": {
    "name": "ipython",
    "version": 3
   },
   "file_extension": ".py",
   "mimetype": "text/x-python",
   "name": "python",
   "nbconvert_exporter": "python",
   "pygments_lexer": "ipython3",
   "version": "3.8.5"
  }
 },
 "nbformat": 4,
 "nbformat_minor": 2
}
